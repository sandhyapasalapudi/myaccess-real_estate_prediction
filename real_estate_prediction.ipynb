import pandas as pd 
import numpy as np

# visualization
import seaborn as sns
import matplotlib.pyplot as plt

# Scikit-learn
from sklearn.compose import make_column_transformer
from sklearn.preprocessing import OneHotEncoder,MinMaxScaler
from sklearn.model_selection import train_test_split
from sklearn.metrics import mean_squared_error

# Tensorflow
import tensorflow as tf
from tensorflow import keras
from tensorflow.keras import layers
from keras.utils.vis_utils import plot_model

# machine Learning
from sklearn.linear_model import LinearRegression

# Warnings
import warnings
warnings.filterwarnings('ignore')
